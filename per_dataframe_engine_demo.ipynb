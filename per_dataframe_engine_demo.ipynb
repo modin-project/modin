{
 "cells": [
  {
   "cell_type": "code",
   "execution_count": 2,
   "metadata": {},
   "outputs": [
    {
     "name": "stdout",
     "output_type": "stream",
     "text": [
      "('Ray', 'Pandas')\n",
      "('Python', 'Pandas')\n"
     ]
    }
   ],
   "source": [
    "import modin.pandas as pd\n",
    "from modin.config import StorageFormat, Engine\n",
    "\n",
    "StorageFormat.put('Pandas')\n",
    "Engine.put('ray')\n",
    "\n",
    "ray_df = pd.DataFrame([[0, 1], [2, 3]])\n",
    "\n",
    "print((ray_df.engine, ray_df.storage_format))\n",
    "\n",
    "# We should propagate engine through all operations,\n",
    "# but we don't support these yet.\n",
    "# print([df.engine for df in\n",
    "#  (\n",
    "#     ray_df.sort_values(0),\n",
    "#     ray_df.astype(str),\n",
    "#     ray_df.groupby(0).sum(),\n",
    "#     ray_df * ray_df,\n",
    "#  )\n",
    "# ])\n",
    "\n",
    "# Make a python dataframe\n",
    "Engine.put('Python')\n",
    "python_df = pd.DataFrame([[4, 5], [6, 7]])\n",
    "print((python_df.engine, python_df.storage_format))"
   ]
  }
 ],
 "metadata": {
  "kernelspec": {
   "display_name": "modin-dev",
   "language": "python",
   "name": "python3"
  },
  "language_info": {
   "codemirror_mode": {
    "name": "ipython",
    "version": 3
   },
   "file_extension": ".py",
   "mimetype": "text/x-python",
   "name": "python",
   "nbconvert_exporter": "python",
   "pygments_lexer": "ipython3",
   "version": "3.9.21"
  }
 },
 "nbformat": 4,
 "nbformat_minor": 2
}
