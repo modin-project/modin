{
 "cells": [
  {
   "cell_type": "code",
   "execution_count": 1,
   "metadata": {},
   "outputs": [
    {
     "name": "stderr",
     "output_type": "stream",
     "text": [
      "UserWarning: Thank you for using the Modin Experimental pandas API.\n",
      "Please note that some of these APIs deviate from pandas in order to provide improved performance.\n"
     ]
    }
   ],
   "source": [
    "# This notebook expects that Modin and Ray are installed, e.g. by `pip install modin[ray]`.\n",
    "# Alternative way is to install everything via conda, like\n",
    "#     conda create -n test-modin-intel -c intel/label/test -c conda-forge modin=0.8.intel jupyter\n",
    "# then activate new environment and run jupyter from it\n",
    "\n",
    "# NOTE: this is special version for showing cloud-cluster functionality.\n",
    "# It requires installation of extra packages: `pip install cloudpickle rpyc`\n",
    "# Also if your environment requires proxy for SSH you need to expose it via MODIN_SOCKS_PROXY environment variable,\n",
    "# please note that it requires ray >= 0.8.7 to work\n",
    "import modin.experimental.pandas as pd\n",
    "from modin.experimental.cloud import create_cluster"
   ]
  },
  {
   "cell_type": "code",
   "execution_count": 2,
   "metadata": {},
   "outputs": [],
   "source": [
    "columns_names = [\n",
    "        \"trip_id\", \"vendor_id\", \"pickup_datetime\", \"dropoff_datetime\", \"store_and_fwd_flag\",\n",
    "        \"rate_code_id\", \"pickup_longitude\", \"pickup_latitude\", \"dropoff_longitude\", \"dropoff_latitude\",\n",
    "        \"passenger_count\", \"trip_distance\", \"fare_amount\", \"extra\", \"mta_tax\", \"tip_amount\",\n",
    "        \"tolls_amount\", \"ehail_fee\", \"improvement_surcharge\", \"total_amount\", \"payment_type\",\n",
    "        \"trip_type\", \"pickup\", \"dropoff\", \"cab_type\", \"precipitation\", \"snow_depth\", \"snowfall\",\n",
    "        \"max_temperature\", \"min_temperature\", \"average_wind_speed\", \"pickup_nyct2010_gid\",\n",
    "        \"pickup_ctlabel\", \"pickup_borocode\", \"pickup_boroname\", \"pickup_ct2010\",\n",
    "        \"pickup_boroct2010\", \"pickup_cdeligibil\", \"pickup_ntacode\", \"pickup_ntaname\", \"pickup_puma\",\n",
    "        \"dropoff_nyct2010_gid\", \"dropoff_ctlabel\", \"dropoff_borocode\", \"dropoff_boroname\",\n",
    "        \"dropoff_ct2010\", \"dropoff_boroct2010\", \"dropoff_cdeligibil\", \"dropoff_ntacode\",\n",
    "        \"dropoff_ntaname\", \"dropoff_puma\",\n",
    "    ]\n",
    "parse_dates=[\"pickup_datetime\", \"dropoff_datetime\"]"
   ]
  },
  {
   "cell_type": "code",
   "execution_count": 3,
   "metadata": {},
   "outputs": [
    {
     "name": "stdout",
     "output_type": "stream",
     "text": [
      "Cluster configuration valid.\n",
      "\n",
      "Cluster: rayscale-test\n",
      "Bootstraping AWS config\n",
      "AWS config\n",
      "  IAM Profile: ray-autoscaler-v1\n",
      "  EC2 Key pair (head & workers): ray-autoscaler_4_eu-north-1\n",
      "  VPC Subnets (head & workers): subnet-0995b6216dbfd237a\n",
      "  EC2 Security groups (head & workers): sg-071a54090e55d92f3\n",
      "  EC2 AMI (head & workers): ami-00e1e82d7d4ca80d3\n",
      "\n",
      "No head node found. Launching a new cluster. Confirm [y/N]: y [automatic, due to --yes]\n",
      "\n",
      "Acquiring an up-to-date head node\n",
      "  Launching 1 nodes [subnet_id=subnet-0995b6216dbfd237a]\n",
      "    Launched instance i-0fe38c76768f10015 [state=pending, info=pending]\n",
      "  Launched a new head node\n",
      "  Fetching the new head node\n",
      "  \n",
      "<1/1> Setting up head node\n",
      "  Prepared bootstrap config\n",
      "  New status: waiting-for-ssh\n",
      "  [1/6] Waiting for SSH to become available\n",
      "    Running `uptime` as a test.\n",
      "    Waiting for IP\n",
      "      Not yet available, retrying in 10 seconds\n",
      "      Received: 13.48.10.50\n",
      "    Running `uptime`\n",
      "    Success.\n",
      "  Updating cluster configuration. [hash=53d91b294342fd6671637efd946eda7eb0c51e99]\n",
      "  New status: syncing-files\n",
      "  [2/6] Processing file mounts\n",
      "    Running `mkdir -p ~`\n",
      "    Running `rsync --rsh ssh -i /users/vnlitvin/.ssh/ray-autoscaler_4_eu-north-1.pem -o StrictHostKeyChecking=no -o UserKnownHostsFile=/dev/null -o IdentitiesOnly=yes -o ExitOnForwardFailure=yes -o ServerAliveInterval=5 -o ServerAliveCountMax=3 -o ControlMaster=auto -o ControlPath=/tmp/ray_ssh_3004486bfb/4e108a2563/%C -o ControlPersist=10s -o \"ProxyCommand=nc -x proxy-im.intel.com:1080 %h %p\" -o ConnectTimeout=120s -avz /tmp/ray-bootstrap-w33s4wrj ubuntu@13.48.10.50:~/ray_bootstrap_config.yaml`\n",
      "    `rsync`ed /tmp/ray-bootstrap-w33s4wrj (local) to ~/ray_bootstrap_config.yaml (remote)\n",
      "    ~/ray_bootstrap_config.yaml from /tmp/ray-bootstrap-w33s4wrj\n",
      "    Running `mkdir -p ~`\n",
      "    Running `rsync --rsh ssh -i /users/vnlitvin/.ssh/ray-autoscaler_4_eu-north-1.pem -o StrictHostKeyChecking=no -o UserKnownHostsFile=/dev/null -o IdentitiesOnly=yes -o ExitOnForwardFailure=yes -o ServerAliveInterval=5 -o ServerAliveCountMax=3 -o ControlMaster=auto -o ControlPath=/tmp/ray_ssh_3004486bfb/4e108a2563/%C -o ControlPersist=10s -o \"ProxyCommand=nc -x proxy-im.intel.com:1080 %h %p\" -o ConnectTimeout=120s -avz /users/vnlitvin/.ssh/ray-autoscaler_4_eu-north-1.pem ubuntu@13.48.10.50:~/ray_bootstrap_key.pem`\n",
      "    `rsync`ed /users/vnlitvin/.ssh/ray-autoscaler_4_eu-north-1.pem (local) to ~/ray_bootstrap_key.pem (remote)\n",
      "    ~/ray_bootstrap_key.pem from /users/vnlitvin/.ssh/ray-autoscaler_4_eu-north-1.pem\n",
      "  [3/6] No worker file mounts to sync\n",
      "  New status: setting-up\n",
      "  [4/6] No initialization commands to run.\n",
      "  [5/6] Running setup commands\n",
      "    (0/3) # need to install python 3.7.6\n",
      "wget https://repo.anaconda.com/miniconda/Miniconda3-latest-Linux-x86_64.sh -O ~/miniconda.sh\n",
      "bash ~/miniconda.sh -b -p ~/miniconda -f -u\n",
      "$HOME/miniconda/bin/conda init bash\n",
      "source ~/.bashrc\n",
      "conda create --clone base --name modin --yes\n",
      "conda activate modin\n",
      "conda install python==3.7.6\n",
      "\n",
      "pip install modin \"ray==0.8.7\" cloudpickle\n",
      "echo 'export MODIN_RAY_CLUSTER=True' >> ~/.bashrc\n",
      "\n",
      "    Running `# need to install python 3.7.6\n",
      "wget https://repo.anaconda.com/miniconda/Miniconda3-latest-Linux-x86_64.sh -O ~/miniconda.sh\n",
      "bash ~/miniconda.sh -b -p ~/miniconda -f -u\n",
      "$HOME/miniconda/bin/conda init bash\n",
      "source ~/.bashrc\n",
      "conda create --clone base --name modin --yes\n",
      "conda activate modin\n",
      "conda install python==3.7.6\n",
      "\n",
      "pip install modin \"ray==0.8.7\" cloudpickle\n",
      "echo 'export MODIN_RAY_CLUSTER=True' >> ~/.bashrc\n",
      "`\n",
      "    (1/3) # need to install python 3.7.6\n",
      "wget https://repo.anaconda.com/miniconda/Miniconda3-latest-Linux-x86_64.sh -O ~/miniconda.sh\n",
      "bash ~/miniconda.sh -b -p ~/miniconda -f -u\n",
      "$HOME/miniconda/bin/conda init bash\n",
      "source ~/.bashrc\n",
      "conda create --clone base --name modin --yes\n",
      "conda activate modin\n",
      "conda install python==3.7.6\n",
      "\n",
      "pip install modin \"ray==0.8.7\" cloudpickle\n",
      "echo 'export MODIN_RAY_CLUSTER=True' >> ~/.bashrc\n",
      "\n",
      "    Running `# need to install python 3.7.6\n",
      "wget https://repo.anaconda.com/miniconda/Miniconda3-latest-Linux-x86_64.sh -O ~/miniconda.sh\n",
      "bash ~/miniconda.sh -b -p ~/miniconda -f -u\n",
      "$HOME/miniconda/bin/conda init bash\n",
      "source ~/.bashrc\n",
      "conda create --clone base --name modin --yes\n",
      "conda activate modin\n",
      "conda install python==3.7.6\n",
      "\n",
      "pip install modin \"ray==0.8.7\" cloudpickle\n",
      "echo 'export MODIN_RAY_CLUSTER=True' >> ~/.bashrc\n",
      "`\n",
      "    (2/3) source ~/.bashrc\n",
      "conda activate modin\n",
      "pip install boto3==1.4.8 rpyc==4.1.5\n",
      "echo 'export MODIN_REDIS_ADDRESS=\"localhost:6379\"' >> ~/.bashrc\n",
      "\n",
      "    Running `source ~/.bashrc\n",
      "conda activate modin\n",
      "pip install boto3==1.4.8 rpyc==4.1.5\n",
      "echo 'export MODIN_REDIS_ADDRESS=\"localhost:6379\"' >> ~/.bashrc\n",
      "`\n",
      "  [6/6] Starting the Ray runtime\n",
      "    Running `source ~/.bashrc\n",
      "conda activate modin\n",
      "ray stop\n",
      "\n",
      "export MEMORY_STORE_SIZE=$(awk \"/MemFree/ { printf \\\"%d \\\\n\\\", \\$2*1024*0.8}\" /proc/meminfo)\n",
      "export TMPDIR=\"$(dirname $(mktemp tmp.XXXXXXXXXX -ut))\"\n",
      "echo 'export MEMORY_STORE_SIZE=$(awk \"/MemFree/ { printf \\\"%d \\\\n\\\", \\$2*1024*0.8}\" /proc/meminfo)' >> ~/.bashrc\n",
      "echo 'export TMPDIR=\"$(dirname $(mktemp tmp.XXXXXXXXXX -ut))\"' >> ~/.bashrc\n",
      "\n",
      "ulimit -n 65536; ray start --head --num-redis-shards=1 --redis-shard-ports=6380 --port=6379 --object-manager-port=8076 --autoscaling-config=~/ray_bootstrap_config.yaml --object-store-memory=$MEMORY_STORE_SIZE --plasma-directory=$TMPDIR\n",
      "`\n",
      "  New status: update-failed\n",
      "  !!!\n",
      "  {'msg_type': 'ssh_command_failed', 'code': 127, 'command': 'ssh -tt -i /users/vnlitvin/.ssh/ray-autoscaler_4_eu-north-1.pem -o StrictHostKeyChecking=no -o UserKnownHostsFile=/dev/null -o IdentitiesOnly=yes -o ExitOnForwardFailure=yes -o ServerAliveInterval=5 -o ServerAliveCountMax=3 -o ControlMaster=auto -o ControlPath=/tmp/ray_ssh_3004486bfb/4e108a2563/%C -o ControlPersist=10s -o ProxyCommand=nc -x proxy-im.intel.com:1080 %h %p -o ConnectTimeout=120s ubuntu@13.48.10.50 bash --login -c -i \\'\\'\"\\'\"\\'true && source ~/.bashrc && export OMP_NUM_THREADS=1 PYTHONWARNINGS=ignore && source ~/.bashrc\\nconda activate modin\\nray stop\\n\\nexport MEMORY_STORE_SIZE=$(awk \"/MemFree/ { printf \\\\\"%d \\\\\\\\n\\\\\", \\\\$2*1024*0.8}\" /proc/meminfo)\\nexport TMPDIR=\"$(dirname $(mktemp tmp.XXXXXXXXXX -ut))\"\\necho \\'\"\\'\"\\'\"\\'\"\\'\"\\'\"\\'\"\\'\"\\'export MEMORY_STORE_SIZE=$(awk \"/MemFree/ { printf \\\\\"%d \\\\\\\\n\\\\\", \\\\$2*1024*0.8}\" /proc/meminfo)\\'\"\\'\"\\'\"\\'\"\\'\"\\'\"\\'\"\\'\"\\' >> ~/.bashrc\\necho \\'\"\\'\"\\'\"\\'\"\\'\"\\'\"\\'\"\\'\"\\'export TMPDIR=\"$(dirname $(mktemp tmp.XXXXXXXXXX -ut))\"\\'\"\\'\"\\'\"\\'\"\\'\"\\'\"\\'\"\\'\"\\' >> ~/.bashrc\\n\\nulimit -n 65536; ray start --head --num-redis-shards=1 --redis-shard-ports=6380 --port=6379 --object-manager-port=8076 --autoscaling-config=~/ray_bootstrap_config.yaml --object-store-memory=$MEMORY_STORE_SIZE --plasma-directory=$TMPDIR\\n\\'\"\\'\"\\'\\'', 'message_discovered': None}\n",
      "  Command failed (discovered=None): type=ssh_command_failed, code=127, command=ssh -tt -i /users/vnlitvin/.ssh/ray-autoscaler_4_eu-north-1.pem -o StrictHostKeyChecking=no -o UserKnownHostsFile=/dev/null -o IdentitiesOnly=yes -o ExitOnForwardFailure=yes -o ServerAliveInterval=5 -o ServerAliveCountMax=3 -o ControlMaster=auto -o ControlPath=/tmp/ray_ssh_3004486bfb/4e108a2563/%C -o ControlPersist=10s -o ProxyCommand=nc -x proxy-im.intel.com:1080 %h %p -o ConnectTimeout=120s ubuntu@13.48.10.50 bash --login -c -i ''\"'\"'true && source ~/.bashrc && export OMP_NUM_THREADS=1 PYTHONWARNINGS=ignore && source ~/.bashrc\n",
      "conda activate modin\n",
      "ray stop\n",
      "\n",
      "export MEMORY_STORE_SIZE=$(awk \"/MemFree/ { printf \\\"%d \\\\n\\\", \\$2*1024*0.8}\" /proc/meminfo)\n",
      "export TMPDIR=\"$(dirname $(mktemp tmp.XXXXXXXXXX -ut))\"\n",
      "echo '\"'\"'\"'\"'\"'\"'\"'\"'export MEMORY_STORE_SIZE=$(awk \"/MemFree/ { printf \\\"%d \\\\n\\\", \\$2*1024*0.8}\" /proc/meminfo)'\"'\"'\"'\"'\"'\"'\"'\"' >> ~/.bashrc\n",
      "echo '\"'\"'\"'\"'\"'\"'\"'\"'export TMPDIR=\"$(dirname $(mktemp tmp.XXXXXXXXXX -ut))\"'\"'\"'\"'\"'\"'\"'\"'\"' >> ~/.bashrc\n",
      "\n",
      "ulimit -n 65536; ray start --head --num-redis-shards=1 --redis-shard-ports=6380 --port=6379 --object-manager-port=8076 --autoscaling-config=~/ray_bootstrap_config.yaml --object-store-memory=$MEMORY_STORE_SIZE --plasma-directory=$TMPDIR\n",
      "'\"'\"''\n",
      "  !!!\n",
      "  \n"
     ]
    },
    {
     "name": "stderr",
     "output_type": "stream",
     "text": [
      "Exception in thread Thread-6:\n",
      "Traceback (most recent call last):\n",
      "  File \"/localdisk/vnlitvin/miniconda3/envs/test-modin-intel/lib/python3.7/site-packages/ray/autoscaler/command_runner.py\", line 385, in start_process\n",
      "    self.process_runner.check_call(final_cmd)\n",
      "  File \"/localdisk/vnlitvin/miniconda3/envs/test-modin-intel/lib/python3.7/subprocess.py\", line 363, in check_call\n",
      "    raise CalledProcessError(retcode, cmd)\n",
      "subprocess.CalledProcessError: Command '['ssh', '-tt', '-i', '/users/vnlitvin/.ssh/ray-autoscaler_4_eu-north-1.pem', '-o', 'StrictHostKeyChecking=no', '-o', 'UserKnownHostsFile=/dev/null', '-o', 'IdentitiesOnly=yes', '-o', 'ExitOnForwardFailure=yes', '-o', 'ServerAliveInterval=5', '-o', 'ServerAliveCountMax=3', '-o', 'ControlMaster=auto', '-o', 'ControlPath=/tmp/ray_ssh_3004486bfb/4e108a2563/%C', '-o', 'ControlPersist=10s', '-o', 'ProxyCommand=nc -x proxy-im.intel.com:1080 %h %p', '-o', 'ConnectTimeout=120s', 'ubuntu@13.48.10.50', 'bash', '--login', '-c', '-i', '\\'true && source ~/.bashrc && export OMP_NUM_THREADS=1 PYTHONWARNINGS=ignore && source ~/.bashrc\\nconda activate modin\\nray stop\\n\\nexport MEMORY_STORE_SIZE=$(awk \"/MemFree/ { printf \\\\\"%d \\\\\\\\n\\\\\", \\\\$2*1024*0.8}\" /proc/meminfo)\\nexport TMPDIR=\"$(dirname $(mktemp tmp.XXXXXXXXXX -ut))\"\\necho \\'\"\\'\"\\'export MEMORY_STORE_SIZE=$(awk \"/MemFree/ { printf \\\\\"%d \\\\\\\\n\\\\\", \\\\$2*1024*0.8}\" /proc/meminfo)\\'\"\\'\"\\' >> ~/.bashrc\\necho \\'\"\\'\"\\'export TMPDIR=\"$(dirname $(mktemp tmp.XXXXXXXXXX -ut))\"\\'\"\\'\"\\' >> ~/.bashrc\\n\\nulimit -n 65536; ray start --head --num-redis-shards=1 --redis-shard-ports=6380 --port=6379 --object-manager-port=8076 --autoscaling-config=~/ray_bootstrap_config.yaml --object-store-memory=$MEMORY_STORE_SIZE --plasma-directory=$TMPDIR\\n\\'']' returned non-zero exit status 127.\n",
      "\n",
      "During handling of the above exception, another exception occurred:\n",
      "\n",
      "Traceback (most recent call last):\n",
      "  File \"/localdisk/vnlitvin/miniconda3/envs/test-modin-intel/lib/python3.7/threading.py\", line 926, in _bootstrap_inner\n",
      "    self.run()\n",
      "  File \"/localdisk/vnlitvin/miniconda3/envs/test-modin-intel/lib/python3.7/site-packages/ray/autoscaler/updater.py\", line 74, in run\n",
      "    self.do_update()\n",
      "  File \"/localdisk/vnlitvin/miniconda3/envs/test-modin-intel/lib/python3.7/site-packages/ray/autoscaler/updater.py\", line 300, in do_update\n",
      "    self.cmd_runner.run(cmd)\n",
      "  File \"/localdisk/vnlitvin/miniconda3/envs/test-modin-intel/lib/python3.7/site-packages/ray/autoscaler/command_runner.py\", line 406, in run\n",
      "    return start_process()\n",
      "  File \"/localdisk/vnlitvin/miniconda3/envs/test-modin-intel/lib/python3.7/site-packages/ray/autoscaler/command_runner.py\", line 393, in start_process\n",
      "    command=quoted_cmd)\n",
      "ray.autoscaler.command_runner.ProcessRunnerError: Command failed (discovered=None): type=ssh_command_failed, code=127, command=ssh -tt -i /users/vnlitvin/.ssh/ray-autoscaler_4_eu-north-1.pem -o StrictHostKeyChecking=no -o UserKnownHostsFile=/dev/null -o IdentitiesOnly=yes -o ExitOnForwardFailure=yes -o ServerAliveInterval=5 -o ServerAliveCountMax=3 -o ControlMaster=auto -o ControlPath=/tmp/ray_ssh_3004486bfb/4e108a2563/%C -o ControlPersist=10s -o ProxyCommand=nc -x proxy-im.intel.com:1080 %h %p -o ConnectTimeout=120s ubuntu@13.48.10.50 bash --login -c -i ''\"'\"'true && source ~/.bashrc && export OMP_NUM_THREADS=1 PYTHONWARNINGS=ignore && source ~/.bashrc\n",
      "conda activate modin\n",
      "ray stop\n",
      "\n",
      "export MEMORY_STORE_SIZE=$(awk \"/MemFree/ { printf \\\"%d \\\\n\\\", \\$2*1024*0.8}\" /proc/meminfo)\n",
      "export TMPDIR=\"$(dirname $(mktemp tmp.XXXXXXXXXX -ut))\"\n",
      "echo '\"'\"'\"'\"'\"'\"'\"'\"'export MEMORY_STORE_SIZE=$(awk \"/MemFree/ { printf \\\"%d \\\\n\\\", \\$2*1024*0.8}\" /proc/meminfo)'\"'\"'\"'\"'\"'\"'\"'\"' >> ~/.bashrc\n",
      "echo '\"'\"'\"'\"'\"'\"'\"'\"'export TMPDIR=\"$(dirname $(mktemp tmp.XXXXXXXXXX -ut))\"'\"'\"'\"'\"'\"'\"'\"'\"' >> ~/.bashrc\n",
      "\n",
      "ulimit -n 65536; ray start --head --num-redis-shards=1 --redis-shard-ports=6380 --port=6379 --object-manager-port=8076 --autoscaling-config=~/ray_bootstrap_config.yaml --object-store-memory=$MEMORY_STORE_SIZE --plasma-directory=$TMPDIR\n",
      "'\"'\"''\n",
      "\n"
     ]
    },
    {
     "name": "stdout",
     "output_type": "stream",
     "text": [
      "  Failed to setup head node.\n"
     ]
    },
    {
     "name": "stderr",
     "output_type": "stream",
     "text": [
      "Cannot spawn cluster:\n",
      "Traceback (most recent call last):\n",
      "  File \"/localdisk/vnlitvin/modin/modin/experimental/cloud/rayscale.py\", line 162, in __do_spawn\n",
      "    verbose=1,\n",
      "  File \"/localdisk/vnlitvin/miniconda3/envs/test-modin-intel/lib/python3.7/site-packages/ray/autoscaler/commands.py\", line 178, in create_or_update_cluster\n",
      "    override_cluster_name)\n",
      "  File \"/localdisk/vnlitvin/miniconda3/envs/test-modin-intel/lib/python3.7/site-packages/ray/autoscaler/commands.py\", line 628, in get_or_create_head_node\n",
      "    cli_logger.abort(\"Failed to setup head node.\")\n",
      "  File \"/localdisk/vnlitvin/miniconda3/envs/test-modin-intel/lib/python3.7/site-packages/ray/autoscaler/cli_logger.py\", line 343, in abort\n",
      "    raise SilentClickException(\"Exiting due to cli_logger.abort()\")\n",
      "ray.autoscaler.cli_logger.SilentClickException: Exiting due to cli_logger.abort()\n",
      "\n"
     ]
    },
    {
     "ename": "CannotSpawnCluster",
     "evalue": "cause: Exiting due to cli_logger.abort()\nCannot spawn cluster",
     "output_type": "error",
     "traceback": [
      "\u001b[0;31m---------------------------------------------------------------------------\u001b[0m",
      "\u001b[0;31mCannotSpawnCluster\u001b[0m                        Traceback (most recent call last)",
      "\u001b[0;32m<ipython-input-3-f2e5501c957b>\u001b[0m in \u001b[0;36m<module>\u001b[0;34m\u001b[0m\n\u001b[1;32m      1\u001b[0m with create_cluster('aws', '../../../aws_credentials',\n\u001b[1;32m      2\u001b[0m                     \u001b[0mcluster_name\u001b[0m\u001b[0;34m=\u001b[0m\u001b[0;34m\"rayscale-test\"\u001b[0m\u001b[0;34m,\u001b[0m\u001b[0;34m\u001b[0m\u001b[0;34m\u001b[0m\u001b[0m\n\u001b[0;32m----> 3\u001b[0;31m                     region=\"eu-north-1\", zone=\"eu-north-1b\", image=\"ami-00e1e82d7d4ca80d3\") as remote:\n\u001b[0m\u001b[1;32m      4\u001b[0m     df = pd.read_csv('https://modin-datasets.s3.amazonaws.com/trips_data.csv', names=columns_names,\n\u001b[1;32m      5\u001b[0m                     header=None, parse_dates=parse_dates)\n",
      "\u001b[0;32m/localdisk/vnlitvin/modin/modin/experimental/cloud/cluster.py\u001b[0m in \u001b[0;36m__enter__\u001b[0;34m(self)\u001b[0m\n\u001b[1;32m    183\u001b[0m \u001b[0;34m\u001b[0m\u001b[0m\n\u001b[1;32m    184\u001b[0m     \u001b[0;32mdef\u001b[0m \u001b[0m__enter__\u001b[0m\u001b[0;34m(\u001b[0m\u001b[0mself\u001b[0m\u001b[0;34m)\u001b[0m\u001b[0;34m:\u001b[0m\u001b[0;34m\u001b[0m\u001b[0;34m\u001b[0m\u001b[0m\n\u001b[0;32m--> 185\u001b[0;31m         \u001b[0mself\u001b[0m\u001b[0;34m.\u001b[0m\u001b[0mspawn\u001b[0m\u001b[0;34m(\u001b[0m\u001b[0mwait\u001b[0m\u001b[0;34m=\u001b[0m\u001b[0;32mTrue\u001b[0m\u001b[0;34m)\u001b[0m  \u001b[0;31m# make sure cluster is ready\u001b[0m\u001b[0;34m\u001b[0m\u001b[0;34m\u001b[0m\u001b[0m\n\u001b[0m\u001b[1;32m    186\u001b[0m         \u001b[0mself\u001b[0m\u001b[0;34m.\u001b[0m\u001b[0mconnection\u001b[0m\u001b[0;34m.\u001b[0m\u001b[0mactivate\u001b[0m\u001b[0;34m(\u001b[0m\u001b[0;34m)\u001b[0m\u001b[0;34m\u001b[0m\u001b[0;34m\u001b[0m\u001b[0m\n\u001b[1;32m    187\u001b[0m         \u001b[0mself\u001b[0m\u001b[0;34m.\u001b[0m\u001b[0mold_backends\u001b[0m \u001b[0;34m=\u001b[0m \u001b[0mset_backends\u001b[0m\u001b[0;34m(\u001b[0m\u001b[0mself\u001b[0m\u001b[0;34m.\u001b[0m\u001b[0mtarget_engine\u001b[0m\u001b[0;34m,\u001b[0m \u001b[0mself\u001b[0m\u001b[0;34m.\u001b[0m\u001b[0mtarget_partition\u001b[0m\u001b[0;34m)\u001b[0m\u001b[0;34m\u001b[0m\u001b[0;34m\u001b[0m\u001b[0m\n",
      "\u001b[0;32m/localdisk/vnlitvin/modin/modin/experimental/cloud/cluster.py\u001b[0m in \u001b[0;36mspawn\u001b[0;34m(self, wait)\u001b[0m\n\u001b[1;32m    136\u001b[0m         \u001b[0mWhen\u001b[0m \u001b[0mwait\u001b[0m\u001b[0;34m==\u001b[0m\u001b[0;32mFalse\u001b[0m \u001b[0mit\u001b[0m \u001b[0mspawns\u001b[0m \u001b[0mcluster\u001b[0m \u001b[0masynchronously\u001b[0m\u001b[0;34m.\u001b[0m\u001b[0;34m\u001b[0m\u001b[0;34m\u001b[0m\u001b[0m\n\u001b[1;32m    137\u001b[0m         \"\"\"\n\u001b[0;32m--> 138\u001b[0;31m         \u001b[0mself\u001b[0m\u001b[0;34m.\u001b[0m\u001b[0m_spawn\u001b[0m\u001b[0;34m(\u001b[0m\u001b[0mwait\u001b[0m\u001b[0;34m=\u001b[0m\u001b[0mwait\u001b[0m\u001b[0;34m)\u001b[0m\u001b[0;34m\u001b[0m\u001b[0;34m\u001b[0m\u001b[0m\n\u001b[0m\u001b[1;32m    139\u001b[0m         \u001b[0matexit\u001b[0m\u001b[0;34m.\u001b[0m\u001b[0mregister\u001b[0m\u001b[0;34m(\u001b[0m\u001b[0mself\u001b[0m\u001b[0;34m.\u001b[0m\u001b[0mdestroy\u001b[0m\u001b[0;34m,\u001b[0m \u001b[0mwait\u001b[0m\u001b[0;34m=\u001b[0m\u001b[0;32mTrue\u001b[0m\u001b[0;34m)\u001b[0m\u001b[0;34m\u001b[0m\u001b[0;34m\u001b[0m\u001b[0m\n\u001b[1;32m    140\u001b[0m         \u001b[0;32mif\u001b[0m \u001b[0mwait\u001b[0m\u001b[0;34m:\u001b[0m\u001b[0;34m\u001b[0m\u001b[0;34m\u001b[0m\u001b[0m\n",
      "\u001b[0;32m/localdisk/vnlitvin/modin/modin/experimental/cloud/rayscale.py\u001b[0m in \u001b[0;36m_spawn\u001b[0;34m(self, wait)\u001b[0m\n\u001b[1;32m     84\u001b[0m \u001b[0;34m\u001b[0m\u001b[0m\n\u001b[1;32m     85\u001b[0m     \u001b[0;32mdef\u001b[0m \u001b[0m_spawn\u001b[0m\u001b[0;34m(\u001b[0m\u001b[0mself\u001b[0m\u001b[0;34m,\u001b[0m \u001b[0mwait\u001b[0m\u001b[0;34m=\u001b[0m\u001b[0;32mTrue\u001b[0m\u001b[0;34m)\u001b[0m\u001b[0;34m:\u001b[0m\u001b[0;34m\u001b[0m\u001b[0;34m\u001b[0m\u001b[0m\n\u001b[0;32m---> 86\u001b[0;31m         \u001b[0mself\u001b[0m\u001b[0;34m.\u001b[0m\u001b[0m__run_thread\u001b[0m\u001b[0;34m(\u001b[0m\u001b[0mwait\u001b[0m\u001b[0;34m,\u001b[0m \u001b[0mself\u001b[0m\u001b[0;34m.\u001b[0m\u001b[0mspawner\u001b[0m\u001b[0;34m)\u001b[0m\u001b[0;34m\u001b[0m\u001b[0;34m\u001b[0m\u001b[0m\n\u001b[0m\u001b[1;32m     87\u001b[0m \u001b[0;34m\u001b[0m\u001b[0m\n\u001b[1;32m     88\u001b[0m     \u001b[0;32mdef\u001b[0m \u001b[0m_destroy\u001b[0m\u001b[0;34m(\u001b[0m\u001b[0mself\u001b[0m\u001b[0;34m,\u001b[0m \u001b[0mwait\u001b[0m\u001b[0;34m=\u001b[0m\u001b[0;32mTrue\u001b[0m\u001b[0;34m)\u001b[0m\u001b[0;34m:\u001b[0m\u001b[0;34m\u001b[0m\u001b[0;34m\u001b[0m\u001b[0m\n",
      "\u001b[0;32m/localdisk/vnlitvin/modin/modin/experimental/cloud/rayscale.py\u001b[0m in \u001b[0;36m__run_thread\u001b[0;34m(self, wait, task)\u001b[0m\n\u001b[1;32m     99\u001b[0m             \u001b[0mexc\u001b[0m\u001b[0;34m,\u001b[0m \u001b[0mtask\u001b[0m\u001b[0;34m.\u001b[0m\u001b[0mexc\u001b[0m \u001b[0;34m=\u001b[0m \u001b[0mtask\u001b[0m\u001b[0;34m.\u001b[0m\u001b[0mexc\u001b[0m\u001b[0;34m,\u001b[0m \u001b[0;32mNone\u001b[0m\u001b[0;34m\u001b[0m\u001b[0;34m\u001b[0m\u001b[0m\n\u001b[1;32m    100\u001b[0m             \u001b[0;32mif\u001b[0m \u001b[0mexc\u001b[0m\u001b[0;34m:\u001b[0m\u001b[0;34m\u001b[0m\u001b[0;34m\u001b[0m\u001b[0m\n\u001b[0;32m--> 101\u001b[0;31m                 \u001b[0;32mraise\u001b[0m \u001b[0mexc\u001b[0m\u001b[0;34m\u001b[0m\u001b[0;34m\u001b[0m\u001b[0m\n\u001b[0m\u001b[1;32m    102\u001b[0m \u001b[0;34m\u001b[0m\u001b[0m\n\u001b[1;32m    103\u001b[0m     \u001b[0;32mdef\u001b[0m \u001b[0m__make_config\u001b[0m\u001b[0;34m(\u001b[0m\u001b[0mself\u001b[0m\u001b[0;34m)\u001b[0m\u001b[0;34m:\u001b[0m\u001b[0;34m\u001b[0m\u001b[0;34m\u001b[0m\u001b[0m\n",
      "\u001b[0;31mCannotSpawnCluster\u001b[0m: cause: Exiting due to cli_logger.abort()\nCannot spawn cluster"
     ]
    }
   ],
   "source": [
    "with create_cluster('aws', '../../../aws_credentials',\n",
    "                    cluster_name=\"rayscale-test\",\n",
    "                    region=\"eu-north-1\", zone=\"eu-north-1b\", image=\"ami-00e1e82d7d4ca80d3\") as remote:\n",
    "    df = pd.read_csv('https://modin-datasets.s3.amazonaws.com/trips_data.csv', names=columns_names,\n",
    "                    header=None, parse_dates=parse_dates)"
   ]
  },
  {
   "cell_type": "code",
   "execution_count": 4,
   "metadata": {},
   "outputs": [
    {
     "ename": "NameError",
     "evalue": "name 'remote' is not defined",
     "output_type": "error",
     "traceback": [
      "\u001b[0;31m---------------------------------------------------------------------------\u001b[0m",
      "\u001b[0;31mNameError\u001b[0m                                 Traceback (most recent call last)",
      "\u001b[0;32m<ipython-input-4-b0b2a25c5f93>\u001b[0m in \u001b[0;36m<module>\u001b[0;34m\u001b[0m\n\u001b[0;32m----> 1\u001b[0;31m \u001b[0mremote\u001b[0m\u001b[0;34m,\u001b[0m \u001b[0mdf\u001b[0m\u001b[0;34m\u001b[0m\u001b[0;34m\u001b[0m\u001b[0m\n\u001b[0m",
      "\u001b[0;31mNameError\u001b[0m: name 'remote' is not defined"
     ]
    }
   ],
   "source": [
    "with remote:\n",
    "    print(df)"
   ]
  },
  {
   "cell_type": "code",
   "execution_count": 5,
   "metadata": {},
   "outputs": [],
   "source": [
    "def q1(df):\n",
    "    return df.groupby(\"cab_type\")[\"cab_type\"].count()\n",
    "def q2(df):\n",
    "    return df.groupby(\"passenger_count\", as_index=False).mean()[[\"passenger_count\", \"total_amount\"]]\n",
    "def q3(df):\n",
    "    return df.groupby([\"passenger_count\", \"pickup_datetime\"]).size().reset_index()\n",
    "def q4(df):\n",
    "    transformed = pd.DataFrame({\n",
    "        \"passenger_count\": df[\"passenger_count\"],\n",
    "        \"pickup_datetime\": df[\"pickup_datetime\"].dt.year,\n",
    "        \"trip_distance\": df[\"trip_distance\"].astype(\"int64\"),\n",
    "    })\n",
    "    return transformed.groupby([\"passenger_count\", \"pickup_datetime\", \"trip_distance\"])  \\\n",
    "            .size().reset_index().sort_values(by=[\"pickup_datetime\", 0], ascending=[True, False])"
   ]
  },
  {
   "cell_type": "code",
   "execution_count": 6,
   "metadata": {},
   "outputs": [
    {
     "data": {
      "text/plain": [
       "10000"
      ]
     },
     "execution_count": 6,
     "metadata": {},
     "output_type": "execute_result"
    }
   ],
   "source": [
    "with remote:\n",
    "    for query in (q1, q2, q3, q4):\n",
    "        print(query(df))"
   ]
  },
  {
   "cell_type": "code",
   "execution_count": null,
   "metadata": {},
   "outputs": [],
   "source": []
  }
 ],
 "metadata": {
  "kernelspec": {
   "display_name": "Python 3",
   "language": "python",
   "name": "python3"
  },
  "language_info": {
   "codemirror_mode": {
    "name": "ipython",
    "version": 3
   },
   "file_extension": ".py",
   "mimetype": "text/x-python",
   "name": "python",
   "nbconvert_exporter": "python",
   "pygments_lexer": "ipython3",
   "version": "3.7.8"
  }
 },
 "nbformat": 4,
 "nbformat_minor": 4
}
