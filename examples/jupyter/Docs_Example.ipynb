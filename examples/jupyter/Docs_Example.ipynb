{
 "cells": [
  {
   "cell_type": "markdown",
   "id": "permanent-cleanup",
   "metadata": {},
   "source": [
    "<img src=\"https://github.com/modin-project/modin/blob/3d6368edf311995ad231ec5342a51cd9e4e3dc20/docs/img/MODIN_ver2_hrz.png?raw=true\" align=\"center\" style=\"margin:10px\">\n",
    "\n",
    "<!-- <h2>Scale your pandas workflows by changing one line of code</h2> -->"
   ]
  },
  {
   "cell_type": "code",
   "execution_count": null,
   "id": "combined-fifteen",
   "metadata": {},
   "outputs": [],
   "source": [
    "# import pandas as pd\n",
    "import modin.pandas as pd"
   ]
  },
  {
   "cell_type": "code",
   "execution_count": null,
   "id": "sufficient-bangladesh",
   "metadata": {},
   "outputs": [],
   "source": [
    "csv_path = \"/Users/toddyu/Downloads/yellow_tripdata_2015-01.csv\" #replace with your csv path"
   ]
  },
  {
   "cell_type": "code",
   "execution_count": null,
   "id": "concrete-miracle",
   "metadata": {},
   "outputs": [],
   "source": [
    "%time df = pd.read_csv(csv_path)"
   ]
  },
  {
   "cell_type": "code",
   "execution_count": null,
   "id": "linear-miller",
   "metadata": {},
   "outputs": [],
   "source": [
    "df"
   ]
  },
  {
   "cell_type": "code",
   "execution_count": null,
   "id": "insured-beads",
   "metadata": {},
   "outputs": [],
   "source": [
    "def group_by_count(df):\n",
    "    return df.groupby(\"passenger_count\").count()"
   ]
  },
  {
   "cell_type": "code",
   "execution_count": null,
   "id": "controlling-bench",
   "metadata": {},
   "outputs": [],
   "source": [
    "%time group_by_count(df)"
   ]
  },
  {
   "cell_type": "code",
   "execution_count": null,
   "id": "classified-princeton",
   "metadata": {},
   "outputs": [],
   "source": [
    "%time df.fillna(0)"
   ]
  },
  {
   "cell_type": "code",
   "execution_count": null,
   "id": "intensive-nudist",
   "metadata": {},
   "outputs": [],
   "source": [
    "%time df = pd.concat([df,df])\n",
    "%time df.fillna(0)"
   ]
  },
  {
   "cell_type": "code",
   "execution_count": null,
   "id": "residential-anderson",
   "metadata": {},
   "outputs": [],
   "source": []
  },
  {
   "cell_type": "code",
   "execution_count": null,
   "id": "overall-thompson",
   "metadata": {},
   "outputs": [],
   "source": []
  },
  {
   "cell_type": "code",
   "execution_count": null,
   "id": "associate-metropolitan",
   "metadata": {},
   "outputs": [],
   "source": []
  },
  {
   "cell_type": "markdown",
   "id": "rotary-xerox",
   "metadata": {},
   "source": [
    "<img src=\"https://upload.wikimedia.org/wikipedia/commons/thumb/e/ed/Pandas_logo.svg/1200px-Pandas_logo.svg.png\" align=\"center\" width=\"70%\" height=\"60%\" style=\"margin:10px\">"
   ]
  },
  {
   "cell_type": "code",
   "execution_count": null,
   "id": "authorized-dance",
   "metadata": {},
   "outputs": [],
   "source": [
    "import pandas as pd"
   ]
  },
  {
   "cell_type": "code",
   "execution_count": null,
   "id": "eligible-invention",
   "metadata": {},
   "outputs": [],
   "source": [
    "csv_path = \"/Users/toddyu/Downloads/yellow_tripdata_2015-01.csv\""
   ]
  },
  {
   "cell_type": "code",
   "execution_count": null,
   "id": "executive-melbourne",
   "metadata": {},
   "outputs": [],
   "source": [
    "%time df = pd.read_csv(csv_path)"
   ]
  },
  {
   "cell_type": "code",
   "execution_count": null,
   "id": "identical-interaction",
   "metadata": {},
   "outputs": [],
   "source": [
    "df"
   ]
  },
  {
   "cell_type": "code",
   "execution_count": null,
   "id": "martial-netherlands",
   "metadata": {},
   "outputs": [],
   "source": [
    "def group_by_count(df):\n",
    "    return df.groupby(\"passenger_count\").count()"
   ]
  },
  {
   "cell_type": "code",
   "execution_count": null,
   "id": "unable-institution",
   "metadata": {},
   "outputs": [],
   "source": [
    "%time group_by_count(df)"
   ]
  },
  {
   "cell_type": "code",
   "execution_count": null,
   "id": "particular-abraham",
   "metadata": {},
   "outputs": [],
   "source": [
    "%time df.fillna(0)"
   ]
  },
  {
   "cell_type": "code",
   "execution_count": null,
   "id": "photographic-breath",
   "metadata": {},
   "outputs": [],
   "source": [
    "%time df = pd.concat([df,df])\n",
    "%time df.fillna(0)"
   ]
  },
  {
   "cell_type": "code",
   "execution_count": null,
   "id": "powerful-carroll",
   "metadata": {},
   "outputs": [],
   "source": []
  }
 ],
 "metadata": {
  "kernelspec": {
   "display_name": "Python 3",
   "language": "python",
   "name": "python3"
  },
  "language_info": {
   "codemirror_mode": {
    "name": "ipython",
    "version": 3
   },
   "file_extension": ".py",
   "mimetype": "text/x-python",
   "name": "python",
   "nbconvert_exporter": "python",
   "pygments_lexer": "ipython3",
   "version": "3.7.3"
  }
 },
 "nbformat": 4,
 "nbformat_minor": 5
}
