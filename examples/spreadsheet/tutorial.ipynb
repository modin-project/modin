{
 "cells": [
  {
   "attachments": {
    "image.png": {
     "image/png": "[encoded data removed]"
    }
   },
   "cell_type": "markdown",
   "metadata": {},
   "source": [
    "![image.png](attachment:image.png)"
   ]
  },
  {
   "cell_type": "markdown",
   "metadata": {},
   "source": [
    "## modin.spreadsheet\n",
    "`modin.spreadsheet` is a Jupyter notebook widget that allows users to interact with Modin DataFrames in a spreadsheet-like fashion while taking advantage of the underlying capabilities of Modin. The widget makes it quick and easy to explore, sort, filter, edit data and export reproducible code. \n",
    "\n",
    "This tutorial will showcase how to use `modin.spreadsheet`. To follow along, just run the cells; no editing required!"
   ]
  },
  {
   "cell_type": "code",
   "execution_count": 2,
   "metadata": {},
   "outputs": [
    {
     "name": "stderr",
     "output_type": "stream",
     "text": [
      "UserWarning: Modin Ray engine was started with 352 GB free space avaliable, if it is not enough for your application, please set environment variable MODIN_ON_RAY_PLASMA_DIR=/directory/without/space/limiting\n"
     ]
    }
   ],
   "source": [
    "# This notebook expects that Modin and Ray are installed, e.g. by `pip install modin[ray]`.\n",
    "# For all ways to install Modin see official documentation at:\n",
    "# https://modin.readthedocs.io/en/latest/installation.html\n",
    "import modin.pandas as pd\n",
    "import modin.spreadsheet as mss"
   ]
  },
  {
   "cell_type": "markdown",
   "metadata": {},
   "source": [
    "### Create a Modin DataFrame\n",
    "The following cells creates a DataFrame using a NYC taxi dataset."
   ]
  },
  {
   "cell_type": "code",
   "execution_count": 3,
   "metadata": {},
   "outputs": [],
   "source": [
    "columns_names = [\n",
    "        \"trip_id\", \"vendor_id\", \"pickup_datetime\", \"dropoff_datetime\", \"store_and_fwd_flag\",\n",
    "        \"rate_code_id\", \"pickup_longitude\", \"pickup_latitude\", \"dropoff_longitude\", \"dropoff_latitude\",\n",
    "        \"passenger_count\", \"trip_distance\", \"fare_amount\", \"extra\", \"mta_tax\", \"tip_amount\",\n",
    "        \"tolls_amount\", \"ehail_fee\", \"improvement_surcharge\", \"total_amount\", \"payment_type\",\n",
    "        \"trip_type\", \"pickup\", \"dropoff\", \"cab_type\", \"precipitation\", \"snow_depth\", \"snowfall\",\n",
    "        \"max_temperature\", \"min_temperature\", \"average_wind_speed\", \"pickup_nyct2010_gid\",\n",
    "        \"pickup_ctlabel\", \"pickup_borocode\", \"pickup_boroname\", \"pickup_ct2010\",\n",
    "        \"pickup_boroct2010\", \"pickup_cdeligibil\", \"pickup_ntacode\", \"pickup_ntaname\", \"pickup_puma\",\n",
    "        \"dropoff_nyct2010_gid\", \"dropoff_ctlabel\", \"dropoff_borocode\", \"dropoff_boroname\",\n",
    "        \"dropoff_ct2010\", \"dropoff_boroct2010\", \"dropoff_cdeligibil\", \"dropoff_ntacode\",\n",
    "        \"dropoff_ntaname\", \"dropoff_puma\",\n",
    "    ]\n",
    "parse_dates=[\"pickup_datetime\", \"dropoff_datetime\"]"
   ]
  },
  {
   "cell_type": "code",
   "execution_count": 4,
   "metadata": {},
   "outputs": [
    {
     "name": "stderr",
     "output_type": "stream",
     "text": [
      "UserWarning: Parameters provided defaulting to pandas implementation.\n",
      "To request implementation, send an email to feature_requests@modin.org.\n"
     ]
    }
   ],
   "source": [
    "df = pd.read_csv('https://modin-datasets.s3.amazonaws.com/trips_data.csv', names=columns_names,\n",
    "                header=None, parse_dates=parse_dates)"
   ]
  },
  {
   "cell_type": "code",
   "execution_count": 5,
   "metadata": {
    "scrolled": true
   },
   "outputs": [
    {
     "data": {
      "text/html": [
       "<div>\n",
       "<style scoped>\n",
       "    .dataframe tbody tr th:only-of-type {\n",
       "        vertical-align: middle;\n",
       "    }\n",
       "\n",
       "    .dataframe tbody tr th {\n",
       "        vertical-align: top;\n",
       "    }\n",
       "\n",
       "    .dataframe thead th {\n",
       "        text-align: right;\n",
       "    }\n",
       "</style>\n",
       "<table border=\"1\" class=\"dataframe\">\n",
       "  <thead>\n",
       "    <tr style=\"text-align: right;\">\n",
       "      <th></th>\n",
       "      <th>trip_id</th>\n",
       "      <th>vendor_id</th>\n",
       "      <th>pickup_datetime</th>\n",
       "      <th>dropoff_datetime</th>\n",
       "      <th>store_and_fwd_flag</th>\n",
       "      <th>rate_code_id</th>\n",
       "      <th>pickup_longitude</th>\n",
       "      <th>pickup_latitude</th>\n",
       "      <th>dropoff_longitude</th>\n",
       "      <th>dropoff_latitude</th>\n",
       "      <th>...</th>\n",
       "      <th>dropoff_nyct2010_gid</th>\n",
       "      <th>dropoff_ctlabel</th>\n",
       "      <th>dropoff_borocode</th>\n",
       "      <th>dropoff_boroname</th>\n",
       "      <th>dropoff_ct2010</th>\n",
       "      <th>dropoff_boroct2010</th>\n",
       "      <th>dropoff_cdeligibil</th>\n",
       "      <th>dropoff_ntacode</th>\n",
       "      <th>dropoff_ntaname</th>\n",
       "      <th>dropoff_puma</th>\n",
       "    </tr>\n",
       "  </thead>\n",
       "  <tbody>\n",
       "    <tr>\n",
       "      <th>0</th>\n",
       "      <td>1</td>\n",
       "      <td>2</td>\n",
       "      <td>2013-08-01 08:14:37</td>\n",
       "      <td>2013-08-01 09:09:06</td>\n",
       "      <td>N</td>\n",
       "      <td>1</td>\n",
       "      <td>NaN</td>\n",
       "      <td>NaN</td>\n",
       "      <td>NaN</td>\n",
       "      <td>NaN</td>\n",
       "      <td>...</td>\n",
       "      <td>NaN</td>\n",
       "      <td>NaN</td>\n",
       "      <td>NaN</td>\n",
       "      <td>NaN</td>\n",
       "      <td>NaN</td>\n",
       "      <td>NaN</td>\n",
       "      <td>NaN</td>\n",
       "      <td>NaN</td>\n",
       "      <td>NaN</td>\n",
       "      <td>NaN</td>\n",
       "    </tr>\n",
       "    <tr>\n",
       "      <th>1</th>\n",
       "      <td>2</td>\n",
       "      <td>2</td>\n",
       "      <td>2013-08-01 09:13:00</td>\n",
       "      <td>2013-08-01 11:38:00</td>\n",
       "      <td>N</td>\n",
       "      <td>1</td>\n",
       "      <td>NaN</td>\n",
       "      <td>NaN</td>\n",
       "      <td>NaN</td>\n",
       "      <td>NaN</td>\n",
       "      <td>...</td>\n",
       "      <td>NaN</td>\n",
       "      <td>NaN</td>\n",
       "      <td>NaN</td>\n",
       "      <td>NaN</td>\n",
       "      <td>NaN</td>\n",
       "      <td>NaN</td>\n",
       "      <td>NaN</td>\n",
       "      <td>NaN</td>\n",
       "      <td>NaN</td>\n",
       "      <td>NaN</td>\n",
       "    </tr>\n",
       "    <tr>\n",
       "      <th>2</th>\n",
       "      <td>3</td>\n",
       "      <td>2</td>\n",
       "      <td>2013-08-01 09:48:00</td>\n",
       "      <td>2013-08-01 09:49:00</td>\n",
       "      <td>N</td>\n",
       "      <td>5</td>\n",
       "      <td>NaN</td>\n",
       "      <td>NaN</td>\n",
       "      <td>NaN</td>\n",
       "      <td>NaN</td>\n",
       "      <td>...</td>\n",
       "      <td>NaN</td>\n",
       "      <td>NaN</td>\n",
       "      <td>NaN</td>\n",
       "      <td>NaN</td>\n",
       "      <td>NaN</td>\n",
       "      <td>NaN</td>\n",
       "      <td>NaN</td>\n",
       "      <td>NaN</td>\n",
       "      <td>NaN</td>\n",
       "      <td>NaN</td>\n",
       "    </tr>\n",
       "    <tr>\n",
       "      <th>3</th>\n",
       "      <td>4</td>\n",
       "      <td>2</td>\n",
       "      <td>2013-08-01 10:38:35</td>\n",
       "      <td>2013-08-01 10:38:51</td>\n",
       "      <td>N</td>\n",
       "      <td>1</td>\n",
       "      <td>NaN</td>\n",
       "      <td>NaN</td>\n",
       "      <td>NaN</td>\n",
       "      <td>NaN</td>\n",
       "      <td>...</td>\n",
       "      <td>NaN</td>\n",
       "      <td>NaN</td>\n",
       "      <td>NaN</td>\n",
       "      <td>NaN</td>\n",
       "      <td>NaN</td>\n",
       "      <td>NaN</td>\n",
       "      <td>NaN</td>\n",
       "      <td>NaN</td>\n",
       "      <td>NaN</td>\n",
       "      <td>NaN</td>\n",
       "    </tr>\n",
       "    <tr>\n",
       "      <th>4</th>\n",
       "      <td>5</td>\n",
       "      <td>2</td>\n",
       "      <td>2013-08-01 11:51:45</td>\n",
       "      <td>2013-08-01 12:03:52</td>\n",
       "      <td>N</td>\n",
       "      <td>1</td>\n",
       "      <td>NaN</td>\n",
       "      <td>NaN</td>\n",
       "      <td>NaN</td>\n",
       "      <td>NaN</td>\n",
       "      <td>...</td>\n",
       "      <td>NaN</td>\n",
       "      <td>NaN</td>\n",
       "      <td>NaN</td>\n",
       "      <td>NaN</td>\n",
       "      <td>NaN</td>\n",
       "      <td>NaN</td>\n",
       "      <td>NaN</td>\n",
       "      <td>NaN</td>\n",
       "      <td>NaN</td>\n",
       "      <td>NaN</td>\n",
       "    </tr>\n",
       "    <tr>\n",
       "      <th>...</th>\n",
       "      <td>...</td>\n",
       "      <td>...</td>\n",
       "      <td>...</td>\n",
       "      <td>...</td>\n",
       "      <td>...</td>\n",
       "      <td>...</td>\n",
       "      <td>...</td>\n",
       "      <td>...</td>\n",
       "      <td>...</td>\n",
       "      <td>...</td>\n",
       "      <td>...</td>\n",
       "      <td>...</td>\n",
       "      <td>...</td>\n",
       "      <td>...</td>\n",
       "      <td>...</td>\n",
       "      <td>...</td>\n",
       "      <td>...</td>\n",
       "      <td>...</td>\n",
       "      <td>...</td>\n",
       "      <td>...</td>\n",
       "      <td>...</td>\n",
       "    </tr>\n",
       "    <tr>\n",
       "      <th>9995</th>\n",
       "      <td>9881</td>\n",
       "      <td>2</td>\n",
       "      <td>2013-09-29 01:03:48</td>\n",
       "      <td>2013-09-29 01:09:49</td>\n",
       "      <td>N</td>\n",
       "      <td>1</td>\n",
       "      <td>-73.958336</td>\n",
       "      <td>40.820820</td>\n",
       "      <td>-73.953773</td>\n",
       "      <td>40.825195</td>\n",
       "      <td>...</td>\n",
       "      <td>907.0</td>\n",
       "      <td>225.0</td>\n",
       "      <td>1.0</td>\n",
       "      <td>Manhattan</td>\n",
       "      <td>22500.0</td>\n",
       "      <td>1022500.0</td>\n",
       "      <td>E</td>\n",
       "      <td>MN04</td>\n",
       "      <td>Hamilton Heights</td>\n",
       "      <td>3802.0</td>\n",
       "    </tr>\n",
       "    <tr>\n",
       "      <th>9996</th>\n",
       "      <td>9882</td>\n",
       "      <td>2</td>\n",
       "      <td>2013-09-29 03:04:10</td>\n",
       "      <td>2013-09-29 03:09:37</td>\n",
       "      <td>N</td>\n",
       "      <td>1</td>\n",
       "      <td>-73.958824</td>\n",
       "      <td>40.820251</td>\n",
       "      <td>-73.934174</td>\n",
       "      <td>40.853394</td>\n",
       "      <td>...</td>\n",
       "      <td>912.0</td>\n",
       "      <td>271.0</td>\n",
       "      <td>1.0</td>\n",
       "      <td>Manhattan</td>\n",
       "      <td>27100.0</td>\n",
       "      <td>1027100.0</td>\n",
       "      <td>E</td>\n",
       "      <td>MN35</td>\n",
       "      <td>Washington Heights North</td>\n",
       "      <td>3801.0</td>\n",
       "    </tr>\n",
       "    <tr>\n",
       "      <th>9997</th>\n",
       "      <td>9883</td>\n",
       "      <td>2</td>\n",
       "      <td>2013-09-30 16:28:12</td>\n",
       "      <td>2013-09-30 16:56:03</td>\n",
       "      <td>N</td>\n",
       "      <td>1</td>\n",
       "      <td>-73.956100</td>\n",
       "      <td>40.818974</td>\n",
       "      <td>-73.941055</td>\n",
       "      <td>40.789993</td>\n",
       "      <td>...</td>\n",
       "      <td>1318.0</td>\n",
       "      <td>170.0</td>\n",
       "      <td>1.0</td>\n",
       "      <td>Manhattan</td>\n",
       "      <td>17000.0</td>\n",
       "      <td>1017000.0</td>\n",
       "      <td>E</td>\n",
       "      <td>MN33</td>\n",
       "      <td>East Harlem South</td>\n",
       "      <td>3804.0</td>\n",
       "    </tr>\n",
       "    <tr>\n",
       "      <th>9998</th>\n",
       "      <td>9884</td>\n",
       "      <td>2</td>\n",
       "      <td>2013-09-01 13:15:15</td>\n",
       "      <td>2013-09-01 13:23:10</td>\n",
       "      <td>N</td>\n",
       "      <td>1</td>\n",
       "      <td>-73.955345</td>\n",
       "      <td>40.820053</td>\n",
       "      <td>-73.942444</td>\n",
       "      <td>40.841507</td>\n",
       "      <td>...</td>\n",
       "      <td>911.0</td>\n",
       "      <td>251.0</td>\n",
       "      <td>1.0</td>\n",
       "      <td>Manhattan</td>\n",
       "      <td>25100.0</td>\n",
       "      <td>1025100.0</td>\n",
       "      <td>E</td>\n",
       "      <td>MN36</td>\n",
       "      <td>Washington Heights South</td>\n",
       "      <td>3801.0</td>\n",
       "    </tr>\n",
       "    <tr>\n",
       "      <th>9999</th>\n",
       "      <td>9885</td>\n",
       "      <td>2</td>\n",
       "      <td>2013-09-20 07:32:17</td>\n",
       "      <td>2013-09-20 08:01:06</td>\n",
       "      <td>N</td>\n",
       "      <td>1</td>\n",
       "      <td>-73.955353</td>\n",
       "      <td>40.820213</td>\n",
       "      <td>-73.957680</td>\n",
       "      <td>40.765190</td>\n",
       "      <td>...</td>\n",
       "      <td>1758.0</td>\n",
       "      <td>116.0</td>\n",
       "      <td>1.0</td>\n",
       "      <td>Manhattan</td>\n",
       "      <td>11600.0</td>\n",
       "      <td>1011600.0</td>\n",
       "      <td>I</td>\n",
       "      <td>MN31</td>\n",
       "      <td>Lenox Hill-Roosevelt Island</td>\n",
       "      <td>3805.0</td>\n",
       "    </tr>\n",
       "  </tbody>\n",
       "</table>\n",
       "<p>10000 rows x 51 columns</p>\n",
       "</div>"
      ],
      "text/plain": [
       "      trip_id  vendor_id     pickup_datetime    dropoff_datetime  \\\n",
       "0           1          2 2013-08-01 08:14:37 2013-08-01 09:09:06   \n",
       "1           2          2 2013-08-01 09:13:00 2013-08-01 11:38:00   \n",
       "2           3          2 2013-08-01 09:48:00 2013-08-01 09:49:00   \n",
       "3           4          2 2013-08-01 10:38:35 2013-08-01 10:38:51   \n",
       "4           5          2 2013-08-01 11:51:45 2013-08-01 12:03:52   \n",
       "...       ...        ...                 ...                 ...   \n",
       "9995     9881          2 2013-09-29 01:03:48 2013-09-29 01:09:49   \n",
       "9996     9882          2 2013-09-29 03:04:10 2013-09-29 03:09:37   \n",
       "9997     9883          2 2013-09-30 16:28:12 2013-09-30 16:56:03   \n",
       "9998     9884          2 2013-09-01 13:15:15 2013-09-01 13:23:10   \n",
       "9999     9885          2 2013-09-20 07:32:17 2013-09-20 08:01:06   \n",
       "\n",
       "     store_and_fwd_flag  rate_code_id  pickup_longitude  pickup_latitude  \\\n",
       "0                     N             1               NaN              NaN   \n",
       "1                     N             1               NaN              NaN   \n",
       "2                     N             5               NaN              NaN   \n",
       "3                     N             1               NaN              NaN   \n",
       "4                     N             1               NaN              NaN   \n",
       "...                 ...           ...               ...              ...   \n",
       "9995                  N             1        -73.958336        40.820820   \n",
       "9996                  N             1        -73.958824        40.820251   \n",
       "9997                  N             1        -73.956100        40.818974   \n",
       "9998                  N             1        -73.955345        40.820053   \n",
       "9999                  N             1        -73.955353        40.820213   \n",
       "\n",
       "      dropoff_longitude  dropoff_latitude  ...  dropoff_nyct2010_gid  \\\n",
       "0                   NaN               NaN  ...                   NaN   \n",
       "1                   NaN               NaN  ...                   NaN   \n",
       "2                   NaN               NaN  ...                   NaN   \n",
       "3                   NaN               NaN  ...                   NaN   \n",
       "4                   NaN               NaN  ...                   NaN   \n",
       "...                 ...               ...  ...                   ...   \n",
       "9995         -73.953773         40.825195  ...                 907.0   \n",
       "9996         -73.934174         40.853394  ...                 912.0   \n",
       "9997         -73.941055         40.789993  ...                1318.0   \n",
       "9998         -73.942444         40.841507  ...                 911.0   \n",
       "9999         -73.957680         40.765190  ...                1758.0   \n",
       "\n",
       "      dropoff_ctlabel  dropoff_borocode  dropoff_boroname  dropoff_ct2010  \\\n",
       "0                 NaN               NaN               NaN             NaN   \n",
       "1                 NaN               NaN               NaN             NaN   \n",
       "2                 NaN               NaN               NaN             NaN   \n",
       "3                 NaN               NaN               NaN             NaN   \n",
       "4                 NaN               NaN               NaN             NaN   \n",
       "...               ...               ...               ...             ...   \n",
       "9995            225.0               1.0         Manhattan         22500.0   \n",
       "9996            271.0               1.0         Manhattan         27100.0   \n",
       "9997            170.0               1.0         Manhattan         17000.0   \n",
       "9998            251.0               1.0         Manhattan         25100.0   \n",
       "9999            116.0               1.0         Manhattan         11600.0   \n",
       "\n",
       "     dropoff_boroct2010  dropoff_cdeligibil  dropoff_ntacode  \\\n",
       "0                   NaN                 NaN              NaN   \n",
       "1                   NaN                 NaN              NaN   \n",
       "2                   NaN                 NaN              NaN   \n",
       "3                   NaN                 NaN              NaN   \n",
       "4                   NaN                 NaN              NaN   \n",
       "...                 ...                 ...              ...   \n",
       "9995          1022500.0                   E             MN04   \n",
       "9996          1027100.0                   E             MN35   \n",
       "9997          1017000.0                   E             MN33   \n",
       "9998          1025100.0                   E             MN36   \n",
       "9999          1011600.0                   I             MN31   \n",
       "\n",
       "                  dropoff_ntaname dropoff_puma  \n",
       "0                             NaN          NaN  \n",
       "1                             NaN          NaN  \n",
       "2                             NaN          NaN  \n",
       "3                             NaN          NaN  \n",
       "4                             NaN          NaN  \n",
       "...                           ...          ...  \n",
       "9995             Hamilton Heights       3802.0  \n",
       "9996     Washington Heights North       3801.0  \n",
       "9997            East Harlem South       3804.0  \n",
       "9998     Washington Heights South       3801.0  \n",
       "9999  Lenox Hill-Roosevelt Island       3805.0  \n",
       "\n",
       "[10000 rows x 51 columns]"
      ]
     },
     "execution_count": 5,
     "metadata": {},
     "output_type": "execute_result"
    }
   ],
   "source": [
    "df"
   ]
  },
  {
   "cell_type": "markdown",
   "metadata": {},
   "source": [
    "### Generate a spreadsheet widget with the DataFrame\n",
    "`mss.from_dataframe` takes in a DataFrame, optional configuration options, and returns a `SpreadsheetWidget`, which contains all the logic for displaying the spreadsheet view of the DataFrame. The object returned will not be rendered unless displayed."
   ]
  },
  {
   "cell_type": "code",
   "execution_count": 6,
   "metadata": {},
   "outputs": [],
   "source": [
    "spreadsheet = mss.from_dataframe(df)"
   ]
  },
  {
   "cell_type": "markdown",
   "metadata": {},
   "source": [
    "### Displaying the Spreadsheet\n",
    "The widget is displayed when the widget is returned by an input cell or passed to the `display` function e.g. `display(spreadsheet)`. When displayed, the SpreadsheetWidget will generate a transformation history cell that contains a record of the transformations applied to the DataFrame unless the cell already exists or the feature is disabled.\n",
    "\n",
    "### Basic Usage\n",
    "`from_dataframe` creates a copy of the input DataFrame, so changes do not alter the original DataFrame.\n",
    "\n",
    "**Filter** - Each column can be filtered according to its datatype using the filter button to the right of the column header. Any number of columns can be filtered simultaneously.\\\n",
    "**Sort** - Each column can be sorted by clicking on the column header. Assumptions on the order of the data should only be made according to the latest sort i.e. the 2nd last sort may not be in order even if grouped by the duplicates in the last sorted column.\\\n",
    "**Cell Edit** - Double click on a cell to edit its value.\\\n",
    "**Add Row**(toolbar) - Click on the `Add Row` button in the toolbar to duplicate the last row in the DataFrame.\\\n",
    "**Remove Row**(toolbar) - Select row(s) on the spreadsheet and click the `Remove Row` button in the toolbar to remove them.\\\n",
    "**Reset Filters**(toolbar) - Click on the `Reset Filters` button in the toolbar to remove all filters on the data.\\\n",
    "**Reset Sort**(toolbar) - Click on the `Reset Sort` button in the toolbar to remove any sorting on the data.\n",
    "\n",
    "### Transformation History and Reproducible Code\n",
    "The widget records the history of transformations, such as filtering, that occur on the spreadsheet. These transformations are updated in the `spreadsheet transformation history` cell as they happen and can be easily copied for reproducibility. The history can be cleared using the `Clear History` button in the toolbar.\n",
    "\n",
    "**Try making some changes to the spreadsheet!**"
   ]
  },
  {
   "cell_type": "code",
   "execution_count": 7,
   "metadata": {
    "scrolled": true
   },
   "outputs": [
    {
     "data": {
      "application/vnd.jupyter.widget-view+json": {
       "model_id": "944bb183fe2b4f0aa7450a1f887e6668",
       "version_major": 2,
       "version_minor": 0
      },
      "text/plain": [
       "SpreadsheetWidget(grid_options={'fullWidthRows': True, 'syncColumnCellResize': True, 'forceFitColumns': True, …"
      ]
     },
     "metadata": {},
     "output_type": "display_data"
    }
   ],
   "source": [
    "spreadsheet"
   ]
  },
  {
   "cell_type": "code",
   "execution_count": 8,
   "metadata": {
    "modin_spreadsheeteaba6bb9-03f0-441b-9b33-90664f91d4df": true
   },
   "outputs": [
    {
     "ename": "SyntaxError",
     "evalue": "closing parenthesis ']' does not match opening parenthesis '(' (<ipython-input-8-cdc1795a124d>, line 15)",
     "output_type": "error",
     "traceback": [
      "\u001b[0;36m  File \u001b[0;32m\"<ipython-input-8-cdc1795a124d>\"\u001b[0;36m, line \u001b[0;32m15\u001b[0m\n\u001b[0;31m    df = unfiltered_df[(unfiltered_df['trip_id'] >= 14157)&(unfiltered_df['trip_id'] <= 41130)&(unfiltered_df['dropoff_datetime'] >= pd.to_datetime(1378944000000, unit='ms')&(unfiltered_df['dropoff_datetime'] <= pd.to_datetime(1380499199999, unit='ms')].copy()\u001b[0m\n\u001b[0m                                                                                                                                                                                                                                                            ^\u001b[0m\n\u001b[0;31mSyntaxError\u001b[0m\u001b[0;31m:\u001b[0m closing parenthesis ']' does not match opening parenthesis '('\n"
     ]
    }
   ],
   "source": [
    "# ---- spreadsheet transformation history ----\n",
    "# Sort column\n",
    "df.sort_values('trip_id', ascending=True, inplace=True)\n",
    "# Sort column\n",
    "df.sort_values('trip_id', ascending=False, inplace=True)\n",
    "# Filter columns\n",
    "df = unfiltered_df[(unfiltered_df['trip_id'] >= 14157)].copy()\n",
    "# Sort column\n",
    "df.sort_values('trip_id', ascending=False, inplace=True)\n",
    "# Filter columns\n",
    "df = unfiltered_df[(unfiltered_df['trip_id'] >= 14157)&(unfiltered_df['trip_id'] <= 41130)].copy()\n",
    "# Sort column\n",
    "df.sort_values('trip_id', ascending=False, inplace=True)\n",
    "# Filter columns\n",
    "df = unfiltered_df[(unfiltered_df['trip_id'] >= 14157)&(unfiltered_df['trip_id'] <= 41130)&(unfiltered_df['dropoff_datetime'] >= pd.to_datetime(1378944000000, unit='ms')&(unfiltered_df['dropoff_datetime'] <= pd.to_datetime(1380499199999, unit='ms')].copy()\n",
    "# Sort column\n",
    "df.sort_values('trip_id', ascending=False, inplace=True)"
   ]
  },
  {
   "cell_type": "markdown",
   "metadata": {},
   "source": [
    "### Exporting Changes\n",
    "`to_dataframe` takes in a `SpreadsheetWidget` and returns a copy of the DataFrame reflecting the current state of the UI on the widget. Specifically, any filters, edits, or sorts will be applied on the returned Dataframe.\n",
    "\n",
    "**Export a DataFrame after making some changes on the spreadsheet UI**"
   ]
  },
  {
   "cell_type": "code",
   "execution_count": null,
   "metadata": {},
   "outputs": [],
   "source": [
    "changed_df = mss.to_dataframe(spreadsheet)"
   ]
  },
  {
   "cell_type": "code",
   "execution_count": null,
   "metadata": {},
   "outputs": [],
   "source": [
    "changed_df"
   ]
  },
  {
   "cell_type": "markdown",
   "metadata": {},
   "source": [
    "## SpreadsheetWidget API\n",
    "The API on `SpreadsheetWidget` allows users to replicate some of the functionality on the GUI, but also provides other functionality such as applying the transformation history on another DataFrame or getting the DataFrame that matches the spreadsheet state like `to_dataframe`."
   ]
  },
  {
   "cell_type": "code",
   "execution_count": null,
   "metadata": {},
   "outputs": [],
   "source": [
    "# Duplicates the `Reset Filters` button\n",
    "spreadsheet.reset_filters()"
   ]
  },
  {
   "cell_type": "code",
   "execution_count": null,
   "metadata": {},
   "outputs": [],
   "source": [
    "# Duplicates the `Reset Sort` button\n",
    "spreadsheet.reset_sort()"
   ]
  },
  {
   "cell_type": "code",
   "execution_count": null,
   "metadata": {
    "qgrid6f69f373-ae0e-423e-8e26-429f52e1669d": true
   },
   "outputs": [],
   "source": [
    "# Duplicates the `Clear History` button\n",
    "spreadsheet.clear_history()"
   ]
  },
  {
   "cell_type": "code",
   "execution_count": null,
   "metadata": {},
   "outputs": [],
   "source": [
    "# Gets the modified DataFrame that matches the changes to the spreadsheet\n",
    "# This is the same functionality as `mss.to_dataframe`\n",
    "spreadsheet.get_changed_df()"
   ]
  },
  {
   "cell_type": "markdown",
   "metadata": {},
   "source": [
    "### Retrieving and Applying Transformation History \n",
    "The transformation history can be retrieved as a list of code snippets using the `get_history` API. The `apply_history` API will apply the transformations on the input DataFrame and return the resultant DataFrame."
   ]
  },
  {
   "cell_type": "code",
   "execution_count": null,
   "metadata": {
    "scrolled": false
   },
   "outputs": [],
   "source": [
    "spreadsheet.get_history()"
   ]
  },
  {
   "cell_type": "code",
   "execution_count": null,
   "metadata": {},
   "outputs": [],
   "source": [
    "another_df = df.copy()\n",
    "spreadsheet.apply_history(another_df)"
   ]
  },
  {
   "cell_type": "markdown",
   "metadata": {},
   "source": [
    "## Additional Example\n",
    "Here is another example of how to use `from_dataframe`."
   ]
  },
  {
   "cell_type": "code",
   "execution_count": 11,
   "metadata": {},
   "outputs": [],
   "source": [
    "mss.from_dataframe(df, show_toolbar=False, grid_options={'forceFitColumns': False, 'editable': False, 'highlightSelectedCell': True})"
   ]
  }
 ],
 "metadata": {
  "kernelspec": {
   "display_name": "Python 3",
   "language": "python",
   "name": "python3"
  },
  "language_info": {
   "codemirror_mode": {
    "name": "ipython",
    "version": 3
   },
   "file_extension": ".py",
   "mimetype": "text/x-python",
   "name": "python",
   "nbconvert_exporter": "python",
   "pygments_lexer": "ipython3",
   "version": "3.8.5"
  }
 },
 "nbformat": 4,
 "nbformat_minor": 4
}
