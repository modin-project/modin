{
 "cells": [
  {
   "cell_type": "markdown",
   "metadata": {},
   "source": [
    "# Benchmarking Read Parquet"
   ]
  },
  {
   "cell_type": "code",
   "execution_count": null,
   "metadata": {},
   "outputs": [],
   "source": [
    "import modin.dataframe as md\n",
    "\n",
    "import pandas as pd\n",
    "import numpy as np\n",
    "\n",
    "import time\n",
    "import json\n",
    "from datetime import datetime\n",
    "import os\n",
    "from itertools import product"
   ]
  },
  {
   "cell_type": "code",
   "execution_count": null,
   "metadata": {},
   "outputs": [],
   "source": [
    "N_ROWS = [int(1e4), int(1e5), int(1e6)]\n",
    "N_COLS = [10, 20, 50]"
   ]
  },
  {
   "cell_type": "code",
   "execution_count": null,
   "metadata": {},
   "outputs": [],
   "source": [
    "def benchmark(rows, cols, fname):\n",
    "    generated_data = pd.DataFrame({\n",
    "        # parquet must have string column names\n",
    "        str(name): np.random.randn(rows) for name in np.arange(cols)\n",
    "    })\n",
    "    generated_data.to_parquet('data.pq')\n",
    "    \n",
    "    durations = {}\n",
    "    for i in range(5):\n",
    "        start = time.time()\n",
    "        df = md.read_parquet('data.pq')\n",
    "        md.ray.wait(list(df._block_partitions.flatten()))\n",
    "        end = time.time()\n",
    "        durations[i] = end-start\n",
    "        md.ray.worker.global_worker.plasma_client.evict(2*1024*1024)\n",
    "        \n",
    "        \n",
    "    with open(fname,'w+') as f:\n",
    "        f.write(json.dumps({\n",
    "            'time': str(datetime.now()),\n",
    "            'params': {\n",
    "                'rows': rows,\n",
    "                'cols': cols,\n",
    "                'type': 'floats',\n",
    "                'size': int(generated_data.memory_usage().sum())\n",
    "            },\n",
    "            'data': durations,\n",
    "            'summary': {\n",
    "                'mean': np.mean(list(durations.values())),\n",
    "                'std': np.std(list(durations.values()))\n",
    "            }\n",
    "        }))"
   ]
  },
  {
   "cell_type": "code",
   "execution_count": null,
   "metadata": {},
   "outputs": [],
   "source": [
    "# RESULT_DIR = 'old' # Running on master\n",
    "\n",
    "RESULT_DIR = 'new' # Running on new branch\n",
    "\n",
    "\n",
    "!mkdir $RESULT_DIR"
   ]
  },
  {
   "cell_type": "code",
   "execution_count": null,
   "metadata": {},
   "outputs": [],
   "source": [
    "for rows, cols in product(N_ROWS, N_COLS):\n",
    "    print(f\"Working on {rows} x {cols}\")\n",
    "    benchmark(rows, cols, f\"{RESULT_DIR}/{rows}_{cols}.json\")"
   ]
  },
  {
   "cell_type": "code",
   "execution_count": null,
   "metadata": {},
   "outputs": [],
   "source": []
  },
  {
   "cell_type": "code",
   "execution_count": null,
   "metadata": {},
   "outputs": [],
   "source": []
  },
  {
   "cell_type": "code",
   "execution_count": null,
   "metadata": {},
   "outputs": [],
   "source": []
  }
 ],
 "metadata": {
  "kernelspec": {
   "display_name": "Python 3",
   "language": "python",
   "name": "python3"
  },
  "language_info": {
   "codemirror_mode": {
    "name": "ipython",
    "version": 3
   },
   "file_extension": ".py",
   "mimetype": "text/x-python",
   "name": "python",
   "nbconvert_exporter": "python",
   "pygments_lexer": "ipython3",
   "version": "3.6.5"
  }
 },
 "nbformat": 4,
 "nbformat_minor": 2
}
