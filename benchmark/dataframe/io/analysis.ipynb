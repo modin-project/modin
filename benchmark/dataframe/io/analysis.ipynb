{
 "cells": [
  {
   "cell_type": "code",
   "execution_count": null,
   "metadata": {},
   "outputs": [],
   "source": [
    "import numpy as np\n",
    "import pandas as pd\n",
    "import matplotlib.pyplot as plt\n",
    "%matplotlib inline\n",
    "\n",
    "import seaborn as sns"
   ]
  },
  {
   "cell_type": "code",
   "execution_count": null,
   "metadata": {},
   "outputs": [],
   "source": [
    "import json\n",
    "import glob"
   ]
  },
  {
   "cell_type": "code",
   "execution_count": null,
   "metadata": {},
   "outputs": [],
   "source": [
    "def load_df(DIR):\n",
    "    data = [json.load(open(f)) for f in glob.glob(f'{DIR}/*.json')]\n",
    "\n",
    "    cleaned = [{\n",
    "                'rows': s['params']['rows'],\n",
    "                'cols': s['params']['cols'],\n",
    "                'mean': s['summary']['mean']\n",
    "            } for s in data]\n",
    "\n",
    "    df = pd.DataFrame.from_dict(cleaned)\n",
    "    df = df.pivot('rows', 'cols', 'mean')\n",
    "    return df"
   ]
  },
  {
   "cell_type": "code",
   "execution_count": null,
   "metadata": {},
   "outputs": [],
   "source": [
    "plt.figure(figsize=(16,4))\n",
    "\n",
    "plt.subplot(1,3,1)\n",
    "sns.heatmap(load_df('old'), annot=True)\n",
    "plt.title(\"Read by RowGroup (Old)\")\n",
    "\n",
    "plt.subplot(1,3,2)\n",
    "sns.heatmap(load_df('new'), annot=True)\n",
    "plt.title(\"Read by Column (New)\")\n",
    "\n",
    "plt.subplot(1,3,3)\n",
    "sns.heatmap(load_df('new') - load_df('old'), annot=True)\n",
    "plt.title(\"Gain\")\n",
    "\n",
    "plt.savefig(\"result.png\")"
   ]
  },
  {
   "cell_type": "code",
   "execution_count": null,
   "metadata": {},
   "outputs": [],
   "source": []
  },
  {
   "cell_type": "code",
   "execution_count": null,
   "metadata": {},
   "outputs": [],
   "source": []
  }
 ],
 "metadata": {
  "kernelspec": {
   "display_name": "Python 3",
   "language": "python",
   "name": "python3"
  },
  "language_info": {
   "codemirror_mode": {
    "name": "ipython",
    "version": 3
   },
   "file_extension": ".py",
   "mimetype": "text/x-python",
   "name": "python",
   "nbconvert_exporter": "python",
   "pygments_lexer": "ipython3",
   "version": "3.6.5"
  }
 },
 "nbformat": 4,
 "nbformat_minor": 2
}
